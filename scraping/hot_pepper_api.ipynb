{
 "cells": [
  {
   "cell_type": "code",
   "execution_count": 14,
   "metadata": {
    "scrolled": true
   },
   "outputs": [
    {
     "name": "stdout",
     "output_type": "stream",
     "text": [
      "The autoreload extension is already loaded. To reload it, use:\n",
      "  %reload_ext autoreload\n"
     ]
    }
   ],
   "source": [
    "import numpy as np\n",
    "import pandas as pd\n",
    "import matplotlib.pyplot as plt\n",
    "import seaborn as sns\n",
    "sns.set()\n",
    "\n",
    "import json\n",
    "import os\n",
    "import logging\n",
    "import requests\n",
    "\n",
    "import functools as ft\n",
    "\n",
    "from tqdm import tqdm_notebook\n",
    "\n",
    "pd.set_option('display.max_rows', 100)\n",
    "pd.set_option('display.max_columns', 100)\n",
    "\n",
    "%load_ext autoreload\n",
    "%autoreload 2\n",
    "\n",
    "logging.basicConfig(level=logging.INFO)"
   ]
  },
  {
   "cell_type": "code",
   "execution_count": 17,
   "metadata": {},
   "outputs": [],
   "source": [
    "REST_API = 'http://webservice.recruit.co.jp/hotpepper/shop/v1/'"
   ]
  },
  {
   "cell_type": "markdown",
   "metadata": {},
   "source": [
    "# APIの概要を確認"
   ]
  },
  {
   "cell_type": "markdown",
   "metadata": {},
   "source": [
    "仕様は[こちら](https://webservice.recruit.co.jp/hotpepper/reference.html)"
   ]
  },
  {
   "cell_type": "code",
   "execution_count": 30,
   "metadata": {},
   "outputs": [],
   "source": [
    "# 機密情報をうっかり流出させないように、別ファイルに保存してあるものを取得\n",
    "with open('./../hot_api.json','r') as file: \n",
    "    rest_params=json.load(file)"
   ]
  },
  {
   "cell_type": "code",
   "execution_count": 41,
   "metadata": {},
   "outputs": [],
   "source": [
    "rest_params['count'] = 30\n",
    "rest_params['keyword'] = 'zono'\n",
    "rest_params['format'] = 'json'"
   ]
  },
  {
   "cell_type": "code",
   "execution_count": 46,
   "metadata": {},
   "outputs": [],
   "source": [
    "@ft.lru_cache()\n",
    "def get_rest_datas():\n",
    "    data = requests.get(\n",
    "        REST_API,\n",
    "        params = rest_params\n",
    "    ).json()\n",
    "    \n",
    "    return data"
   ]
  },
  {
   "cell_type": "code",
   "execution_count": 47,
   "metadata": {},
   "outputs": [],
   "source": [
    "rest_data = get_rest_datas()"
   ]
  },
  {
   "cell_type": "code",
   "execution_count": 56,
   "metadata": {},
   "outputs": [
    {
     "data": {
      "text/plain": [
       "[{'name_kana': 'きゅうしゅうてーまぱーくぞの',\n",
       "  'desc': '1',\n",
       "  'name': '九州テーマパーク ZONO',\n",
       "  'id': 'J001098810',\n",
       "  'address': '東京都港区六本木７－１８－６\\u3000グランドール六本木B1',\n",
       "  'urls': {'pc': 'https://www.hotpepper.jp/strJ001098810/?vos=nhppalsa000016'},\n",
       "  'genre': {'name': '居酒屋'}},\n",
       " {'name_kana': 'そうさくばるぞの',\n",
       "  'desc': '1',\n",
       "  'name': '創作バルZONO',\n",
       "  'id': 'J001184284',\n",
       "  'address': '兵庫県神戸市須磨区前池町３-3-8',\n",
       "  'urls': {'pc': 'https://www.hotpepper.jp/strJ001184284/?vos=nhppalsa000016'},\n",
       "  'genre': {'name': '創作料理'}},\n",
       " {'name_kana': 'りきしだいにんぐぞの',\n",
       "  'desc': '1',\n",
       "  'name': '力士だいにんぐ ZONO',\n",
       "  'id': 'J000758828',\n",
       "  'address': '東京都墨田区東向島５-9-9',\n",
       "  'urls': {'pc': 'https://www.hotpepper.jp/strJ000758828/?vos=nhppalsa000016'},\n",
       "  'genre': {'name': '居酒屋'}}]"
      ]
     },
     "execution_count": 56,
     "metadata": {},
     "output_type": "execute_result"
    }
   ],
   "source": [
    "rest_data['results']['shop']"
   ]
  },
  {
   "cell_type": "code",
   "execution_count": 57,
   "metadata": {},
   "outputs": [
    {
     "data": {
      "text/html": [
       "<div>\n",
       "<style scoped>\n",
       "    .dataframe tbody tr th:only-of-type {\n",
       "        vertical-align: middle;\n",
       "    }\n",
       "\n",
       "    .dataframe tbody tr th {\n",
       "        vertical-align: top;\n",
       "    }\n",
       "\n",
       "    .dataframe thead th {\n",
       "        text-align: right;\n",
       "    }\n",
       "</style>\n",
       "<table border=\"1\" class=\"dataframe\">\n",
       "  <thead>\n",
       "    <tr style=\"text-align: right;\">\n",
       "      <th></th>\n",
       "      <th>address</th>\n",
       "      <th>desc</th>\n",
       "      <th>genre</th>\n",
       "      <th>id</th>\n",
       "      <th>name</th>\n",
       "      <th>name_kana</th>\n",
       "      <th>urls</th>\n",
       "    </tr>\n",
       "  </thead>\n",
       "  <tbody>\n",
       "    <tr>\n",
       "      <th>0</th>\n",
       "      <td>東京都港区六本木７－１８－６　グランドール六本木B1</td>\n",
       "      <td>1</td>\n",
       "      <td>{'name': '居酒屋'}</td>\n",
       "      <td>J001098810</td>\n",
       "      <td>九州テーマパーク ZONO</td>\n",
       "      <td>きゅうしゅうてーまぱーくぞの</td>\n",
       "      <td>{'pc': 'https://www.hotpepper.jp/strJ001098810...</td>\n",
       "    </tr>\n",
       "    <tr>\n",
       "      <th>1</th>\n",
       "      <td>兵庫県神戸市須磨区前池町３-3-8</td>\n",
       "      <td>1</td>\n",
       "      <td>{'name': '創作料理'}</td>\n",
       "      <td>J001184284</td>\n",
       "      <td>創作バルZONO</td>\n",
       "      <td>そうさくばるぞの</td>\n",
       "      <td>{'pc': 'https://www.hotpepper.jp/strJ001184284...</td>\n",
       "    </tr>\n",
       "    <tr>\n",
       "      <th>2</th>\n",
       "      <td>東京都墨田区東向島５-9-9</td>\n",
       "      <td>1</td>\n",
       "      <td>{'name': '居酒屋'}</td>\n",
       "      <td>J000758828</td>\n",
       "      <td>力士だいにんぐ ZONO</td>\n",
       "      <td>りきしだいにんぐぞの</td>\n",
       "      <td>{'pc': 'https://www.hotpepper.jp/strJ000758828...</td>\n",
       "    </tr>\n",
       "  </tbody>\n",
       "</table>\n",
       "</div>"
      ],
      "text/plain": [
       "                      address desc             genre          id  \\\n",
       "0  東京都港区六本木７－１８－６　グランドール六本木B1    1   {'name': '居酒屋'}  J001098810   \n",
       "1           兵庫県神戸市須磨区前池町３-3-8    1  {'name': '創作料理'}  J001184284   \n",
       "2              東京都墨田区東向島５-9-9    1   {'name': '居酒屋'}  J000758828   \n",
       "\n",
       "            name       name_kana  \\\n",
       "0  九州テーマパーク ZONO  きゅうしゅうてーまぱーくぞの   \n",
       "1       創作バルZONO        そうさくばるぞの   \n",
       "2   力士だいにんぐ ZONO      りきしだいにんぐぞの   \n",
       "\n",
       "                                                urls  \n",
       "0  {'pc': 'https://www.hotpepper.jp/strJ001098810...  \n",
       "1  {'pc': 'https://www.hotpepper.jp/strJ001184284...  \n",
       "2  {'pc': 'https://www.hotpepper.jp/strJ000758828...  "
      ]
     },
     "execution_count": 57,
     "metadata": {},
     "output_type": "execute_result"
    }
   ],
   "source": [
    "pd.DataFrame(rest_data['results']['shop'])"
   ]
  },
  {
   "cell_type": "code",
   "execution_count": null,
   "metadata": {},
   "outputs": [],
   "source": []
  }
 ],
 "metadata": {
  "kernelspec": {
   "display_name": "Python 3",
   "language": "python",
   "name": "python3"
  },
  "language_info": {
   "codemirror_mode": {
    "name": "ipython",
    "version": 3
   },
   "file_extension": ".py",
   "mimetype": "text/x-python",
   "name": "python",
   "nbconvert_exporter": "python",
   "pygments_lexer": "ipython3",
   "version": "3.7.1"
  },
  "toc": {
   "base_numbering": 1,
   "nav_menu": {},
   "number_sections": true,
   "sideBar": true,
   "skip_h1_title": false,
   "title_cell": "Table of Contents",
   "title_sidebar": "Contents",
   "toc_cell": false,
   "toc_position": {},
   "toc_section_display": true,
   "toc_window_display": false
  }
 },
 "nbformat": 4,
 "nbformat_minor": 2
}
